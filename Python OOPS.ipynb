{
 "cells": [
  {
   "cell_type": "markdown",
   "id": "a92d89eb-a255-4b77-b8c8-e16af750afd3",
   "metadata": {},
   "source": [
    "#(OOP) Object-Oriented Programming Assignment"
   ]
  },
  {
   "cell_type": "code",
   "execution_count": null,
   "id": "6edf60ec-5900-4f50-bb93-c5f25afb43e7",
   "metadata": {},
   "outputs": [],
   "source": [
    "#What is Object-Oriented Programming (OOP)?\n",
    "\n",
    "'''\n",
    "->Object-oriented programming (OOP) is a programming paradigm that organizes software design around data, or objects, rather than functions and logic. \n",
    "It uses the concept of \"objects\" and their interactions to build applications.\n",
    "Key features of OOP include inheritance, encapsulation, polymorphism, and abstraction. \n",
    "\n",
    "1. Objects and Classes:\n",
    "\n",
    "Objects:\n",
    "\n",
    "In OOP, objects are the basic units of programming. They represent real-world entities or concepts with their own attributes (data) and methods (actions). \n",
    "Classes:\n",
    "\n",
    "Classes are blueprints or templates for creating objects. They define the structure and behavior of objects that belong to a specific type. For example, a \"Car\" class might define attributes like color, model, and methods like accelerate and brake. \n",
    "\n",
    "2 Key Principles of OOP:\n",
    "\n",
    "Inheritance:\n",
    "\n",
    "Allows a new class (child class) to inherit properties and methods from an existing class (parent class), promoting code reusability and organization. \n",
    "Encapsulation:\n",
    "\n",
    "Bundles data and methods that operate on that data within an object, hiding the internal implementation details from the outside world. \n",
    "Polymorphism:\n",
    "\n",
    "Enables objects of different classes to be treated as objects of a common type, allowing for flexibility and adaptability in code. \n",
    "Abstraction:\n",
    "\n",
    "Hides complex implementation details and exposes only the necessary information to the user, simplifying the interface\n",
    "\n",
    "Benefits of OOP:\n",
    "\n",
    "Modularity:\n",
    "\n",
    "OOP promotes the creation of reusable and self-contained modules, making code easier to maintain and debug. \n",
    "Maintainability:\n",
    "\n",
    "OOP's structured approach makes it easier to understand, modify, and extend software systems. \n",
    "Reusability:\n",
    "\n",
    "Inheritance and other OOP principles enable developers to reuse code, saving time and effort. \n",
    "Real-world modeling:\n",
    "\n",
    "OOP allows developers to model real-world scenarios in their code, making it more intuitive and easier to understand.\n",
    "\n",
    "EXAMPLE:'''"
   ]
  },
  {
   "cell_type": "code",
   "execution_count": null,
   "id": "fd9ef1d4-13cc-41c4-b0ae-72de6628f635",
   "metadata": {},
   "outputs": [],
   "source": [
    "'''\n",
    "Java, C++, Python, C#, and JavaScript. \n",
    "'''"
   ]
  },
  {
   "cell_type": "code",
   "execution_count": null,
   "id": "239e0fe2-bad8-48a6-b6cb-33f22dc6627c",
   "metadata": {},
   "outputs": [],
   "source": [
    "#What is a class in OOP?\n",
    "\n",
    "'''\n",
    "->In Object-Oriented Programming (OOP), a class is a blueprint or template for creating objects.\n",
    "-It defines the structure and behavior of objects, including their attributes (data) and methods (functions).\n",
    "-Think of a class as a recipe for making something, where the recipe specifies the ingredients (attributes) and the steps (methods) needed to create a finished product (object). \n",
    "\n",
    "Key Concepts:\n",
    "\n",
    "Blueprint:\n",
    "\n",
    "A class is a blueprint that describes the structure and behavior of objects that will be created from it. \n",
    "Attributes:\n",
    "\n",
    "These are the variables or properties that describe the state of an object. For example, a Dog class might have attributes like name, breed, and age. \n",
    "Methods:\n",
    "\n",
    "These are the functions or actions that an object can perform. For instance, a Dog class might have methods like bark(), eat(), or sleep(). \n",
    "Objects:\n",
    "\n",
    "Objects are instances of a class. They are the concrete entities that exist in the program and have values for their attributes. \n",
    "Inheritance:\n",
    "\n",
    "Classes can inherit properties and methods from other classes, creating a hierarchy of classes where more specific classes inherit from more general classes. \n",
    "\n",
    "Analogy:\n",
    "\n",
    "Imagine a class as a blueprint for building a house. The blueprint defines the structure (number of rooms, walls, etc.), the materials to be used, and the steps for construction. An object, then, is a specific house built according to that blueprint, with its own unique address, color, and other attributes. \n",
    "In summary: A class is a fundamental concept in OOP that defines the structure and behavior of objects, allowing programmers to create reusable and organized code\n",
    "\n",
    "EXAMPLE:\n",
    "'''"
   ]
  },
  {
   "cell_type": "code",
   "execution_count": 1,
   "id": "83a2407d-69a0-4e70-86e6-a0a20fe4ebbf",
   "metadata": {},
   "outputs": [
    {
     "name": "stdout",
     "output_type": "stream",
     "text": [
      "Buddy says Woof!\n",
      "Buddy is 21 dog years old.\n",
      "Buddy fetched the ball!\n"
     ]
    }
   ],
   "source": [
    "class Dog:\n",
    "    # Constructor to initialize the Dog object with name and age\n",
    "    def __init__(self, name, age):\n",
    "        self.name = name  # Attribute: the dog's name\n",
    "        self.age = age    # Attribute: the dog's age\n",
    "\n",
    "    # Method to make the dog bark\n",
    "    def bark(self):\n",
    "        return f\"{self.name} says Woof!\"\n",
    "\n",
    "    # Method to describe the dog's age in dog years (1 human year = 7 dog years)\n",
    "    def dog_years(self):\n",
    "        return f\"{self.name} is {self.age * 7} dog years old.\"\n",
    "\n",
    "    # Method to simulate the dog fetching a ball\n",
    "    def fetch(self, item):\n",
    "        return f\"{self.name} fetched the {item}!\"\n",
    "\n",
    "# Creating an instance (object) of the Dog class\n",
    "my_dog = Dog(\"Buddy\", 3)\n",
    "\n",
    "# Calling methods on the my_dog object\n",
    "print(my_dog.bark())        # Output: Buddy says Woof!\n",
    "print(my_dog.dog_years())   # Output: Buddy is 21 dog years old.\n",
    "print(my_dog.fetch(\"ball\")) # Output: Buddy fetched the ball!\n"
   ]
  },
  {
   "cell_type": "code",
   "execution_count": null,
   "id": "62fe82c9-bc3a-49c9-a1c4-db2adfc5955e",
   "metadata": {},
   "outputs": [],
   "source": [
    "#What is an object in OOP?\n",
    "\n",
    "'''\n",
    "->In Object-Oriented Programming (OOP), an object is a fundamental unit that represents a real-world entity or a conceptual entity within a program.\n",
    "- It combines data (attributes/fields) and the operations (methods/functions) that can be performed on that data.\n",
    "- Objects are instances of classes, which act as blueprints or templates for creating objects. \n",
    "\n",
    "In Object-Oriented Programming (OOP), an object is an instance of a class. It represents a real-world entity with two main characteristics:\n",
    "\n",
    "1. State (Attributes): These are the properties or data that describe the object. For example, a Car object might have attributes like color, make, and speed.\n",
    "\n",
    "2. Behavior (Methods): These are the functions or actions the object can perform. For the Car, behaviors could include drive(), brake(), or honk().\n",
    "\n",
    "EXAMPLE:'''"
   ]
  },
  {
   "cell_type": "code",
   "execution_count": 1,
   "id": "3b7c05b4-f35c-40d8-b11c-61ab117e1b02",
   "metadata": {},
   "outputs": [
    {
     "name": "stdout",
     "output_type": "stream",
     "text": [
      "Buddy\n",
      "Golden Retriever\n",
      "Buddy says woof!\n"
     ]
    }
   ],
   "source": [
    "# Define a class (blueprint)\n",
    "class Dog:\n",
    "    def __init__(self, name, breed):\n",
    "        self.name = name      # Attribute\n",
    "        self.breed = breed    # Attribute\n",
    "\n",
    "    def bark(self):           # Method\n",
    "        print(f\"{self.name} says woof!\")\n",
    "\n",
    "# Create an object (instance) of the Dog class\n",
    "my_dog = Dog(\"Buddy\", \"Golden Retriever\")\n",
    "\n",
    "# Access attributes\n",
    "print(my_dog.name)    # Output: Buddy\n",
    "print(my_dog.breed)   # Output: Golden Retriever\n",
    "\n",
    "# Call a method\n",
    "my_dog.bark()         # Output: Buddy says woof!\n"
   ]
  },
  {
   "cell_type": "code",
   "execution_count": null,
   "id": "e51f475f-e067-4115-a70c-e0c2e665dfde",
   "metadata": {},
   "outputs": [],
   "source": [
    "#what is the difference between abstraction and encapsulation?\n",
    "\n",
    "'''\n",
    "->\n",
    " Abstraction – Hiding complexity, showing only essentials\n",
    "\n",
    "What it is: Abstraction focuses on hiding the complex implementation details and showing only the necessary features of an object.\n",
    "\n",
    "Why it's useful: It helps users interact with objects at a high level without needing to know how things work internally.\n",
    "\n",
    "Example: When you use a car, you just drive it using the steering wheel and pedals. You don’t need to know how the engine works.\n",
    "\n",
    "'''"
   ]
  },
  {
   "cell_type": "code",
   "execution_count": 2,
   "id": "c3cceb83-48d3-4169-90e2-522340ad7476",
   "metadata": {},
   "outputs": [],
   "source": [
    "from abc import ABC, abstractmethod\n",
    "\n",
    "class Animal(ABC):  # Abstract class\n",
    "    @abstractmethod\n",
    "    def make_sound(self):\n",
    "        pass\n",
    "\n",
    "class Dog(Animal):\n",
    "    def make_sound(self):\n",
    "        print(\"Woof!\")\n",
    "\n",
    "# Only the make_sound() method matters to the user, not how it's done.\n"
   ]
  },
  {
   "cell_type": "code",
   "execution_count": null,
   "id": "0df242d0-cc87-4afd-b2e2-78162cc05b78",
   "metadata": {},
   "outputs": [],
   "source": [
    "'''\n",
    "Encapsulation – Hiding data, protecting it from outside\n",
    "What it is: Encapsulation is about bundling data (attributes) and methods that operate on that data into a single unit (class), and restricting access to some of the object’s components.\n",
    "\n",
    "Why it's useful: It protects data from unintended modification and makes code more secure and easier to maintain.\n",
    "\n",
    "Example: You can't directly access or change the engine of a car while driving; you use controls provided by the car.\n",
    "'''"
   ]
  },
  {
   "cell_type": "code",
   "execution_count": 3,
   "id": "5046b7e8-adc1-49cc-bd92-2533d305765b",
   "metadata": {},
   "outputs": [],
   "source": [
    "class BankAccount:\n",
    "    def __init__(self, balance):\n",
    "        self.__balance = balance  # private variable\n",
    "\n",
    "    def deposit(self, amount):\n",
    "        if amount > 0:\n",
    "            self.__balance += amount\n",
    "\n",
    "    def get_balance(self):\n",
    "        return self.__balance\n",
    "\n",
    "# __balance is hidden from direct access\n"
   ]
  },
  {
   "cell_type": "code",
   "execution_count": null,
   "id": "ab282fc8-af34-4a02-83f9-0ea6db297d46",
   "metadata": {},
   "outputs": [],
   "source": [
    "#what are the dunder methods in python?\n",
    "'''\n",
    "->dunder methods (short for “double underscore” methods) are special methods that have double underscores before and after their names, like __init__, __str__, or __len__.\n",
    "\n",
    "They’re also called magic methods, and Python uses them to implement built-in behavior and operator overloading.\n",
    "\n",
    "EXAMPLE:\n",
    "'''"
   ]
  },
  {
   "cell_type": "code",
   "execution_count": null,
   "id": "1a47df82-fbac-4890-a6e5-e19ea033e0b3",
   "metadata": {},
   "outputs": [],
   "source": [
    "'''Dunder Method | Purpose | Example Use\n",
    "__init__ | Object initializer (like a constructor) | Called when an object is created\n",
    "__str__ | String representation for print() | Used by print(obj)\n",
    "__len__ | Length of an object | Used by len(obj)\n",
    "__add__ | Addition (+ operator) | Used when doing a + b\n",
    "__eq__ | Equality (==) comparison | Used when doing a == b'''"
   ]
  },
  {
   "cell_type": "code",
   "execution_count": 4,
   "id": "c6152ffe-8bc9-4f22-a812-b2d011f9fb92",
   "metadata": {},
   "outputs": [
    {
     "name": "stdout",
     "output_type": "stream",
     "text": [
      "Python Basics (300 pages)\n",
      "300\n"
     ]
    }
   ],
   "source": [
    "class Book:\n",
    "    def __init__(self, title, pages):\n",
    "        self.title = title\n",
    "        self.pages = pages\n",
    "\n",
    "    def __str__(self):\n",
    "        return f\"{self.title} ({self.pages} pages)\"\n",
    "\n",
    "    def __len__(self):\n",
    "        return self.pages\n",
    "\n",
    "# Create an object\n",
    "b = Book(\"Python Basics\", 300)\n",
    "\n",
    "print(b)           # Python Basics (300 pages) → uses __str__\n",
    "print(len(b))      # 300 → uses __len__\n"
   ]
  },
  {
   "cell_type": "code",
   "execution_count": null,
   "id": "6c45b16f-3602-4915-97b1-fccb6f76dc65",
   "metadata": {},
   "outputs": [],
   "source": [
    "#Explain the concept of inheritance in OOP.\n",
    "\n",
    "'''\n",
    "->Inheritance is a fundamental concept in Object-Oriented Programming (OOP) that allows one class (called a child or subclass) to inherit properties and behaviors (attributes and methods) from another class (called a parent or superclass).\n",
    "\n",
    "Why Use Inheritance?\n",
    "\n",
    "- Reusability: You can reuse code from existing classes.\n",
    "\n",
    "- Extensibility: You can add new features without changing the original class.\n",
    "\n",
    "- Hierarchy: It models real-world relationships like \"Dog is an Animal\".'''"
   ]
  },
  {
   "cell_type": "code",
   "execution_count": 5,
   "id": "00af71ae-412d-41d3-b730-99ab1678b52d",
   "metadata": {},
   "outputs": [
    {
     "name": "stdout",
     "output_type": "stream",
     "text": [
      "Buddy says woof!\n",
      "Whiskers says meow!\n"
     ]
    }
   ],
   "source": [
    "# Parent class\n",
    "class Animal:\n",
    "    def __init__(self, name):\n",
    "        self.name = name\n",
    "\n",
    "    def speak(self):\n",
    "        print(f\"{self.name} makes a sound.\")\n",
    "\n",
    "# Child class\n",
    "class Dog(Animal):\n",
    "    def speak(self):\n",
    "        print(f\"{self.name} says woof!\")\n",
    "\n",
    "# Another child class\n",
    "class Cat(Animal):\n",
    "    def speak(self):\n",
    "        print(f\"{self.name} says meow!\")\n",
    "\n",
    "# Creating objects\n",
    "d = Dog(\"Buddy\")\n",
    "c = Cat(\"Whiskers\")\n",
    "\n",
    "d.speak()   # Buddy says woof!\n",
    "c.speak()   # Whiskers says meow!\n"
   ]
  },
  {
   "cell_type": "code",
   "execution_count": null,
   "id": "792f7ee5-3ed1-4cb4-85cf-2673502b4a7d",
   "metadata": {},
   "outputs": [],
   "source": [
    "#what is polymorphism in OOP?\n",
    "\n",
    "'''\n",
    "->In OOP, polymorphism means \"many forms\", and it allows different classes to be treated as if they were the same type through a shared interface—usually by using methods with the same name but with behavior specific to the class.\n",
    "\n",
    "Two Types of Polymorphism:\n",
    "\n",
    "1. Compile-time (Static) Polymorphism\n",
    "\n",
    "Not typically used in Python (more common in languages like Java or C++).\n",
    "\n",
    "Example: method overloading (same method name, different parameters).\n",
    "\n",
    "2. Runtime (Dynamic) Polymorphism ✔️ (common in Python)\n",
    "\n",
    "Achieved through method overriding and duck typing.\n",
    "\n",
    "Python doesn't care about the object type, just whether it has the right method.\n",
    "\n",
    "EXAMPLE:\n",
    "'''"
   ]
  },
  {
   "cell_type": "code",
   "execution_count": 6,
   "id": "728e69a5-d59e-421e-868b-6bf23be9d526",
   "metadata": {},
   "outputs": [
    {
     "name": "stdout",
     "output_type": "stream",
     "text": [
      "Dog says woof\n",
      "Cat says meow\n",
      "Animal makes a sound\n"
     ]
    }
   ],
   "source": [
    "class Animal:\n",
    "    def speak(self):\n",
    "        print(\"Animal makes a sound\")\n",
    "\n",
    "class Dog(Animal):\n",
    "    def speak(self):\n",
    "        print(\"Dog says woof\")\n",
    "\n",
    "class Cat(Animal):\n",
    "    def speak(self):\n",
    "        print(\"Cat says meow\")\n",
    "\n",
    "# Polymorphism in action\n",
    "animals = [Dog(), Cat(), Animal()]\n",
    "\n",
    "for animal in animals:\n",
    "    animal.speak()  # Each object responds differently to the same method call\n"
   ]
  },
  {
   "cell_type": "code",
   "execution_count": null,
   "id": "2a8fcbc8-d22a-43e9-bc0d-56909ee9bf2c",
   "metadata": {},
   "outputs": [],
   "source": [
    "'''\n",
    " Real-Life Analogy:\n",
    "Think of a remote control. Whether it's for a TV, fan, or AC, you press the same button (like \"power\"), but each device reacts differently. That’s polymorphism.\n",
    "\n",
    "'''"
   ]
  },
  {
   "cell_type": "code",
   "execution_count": null,
   "id": "8f53647c-3a7a-43e9-a5f4-13ff9216bdb9",
   "metadata": {},
   "outputs": [],
   "source": [
    "#How is encapulation achieved in python?\n",
    "\n",
    "'''\n",
    "->In Python, encapsulation is achieved by restricting access to attributes and methods of a class—mainly by using naming conventions and getter/setter methods.\n",
    "\n",
    "Python doesn't have true private variables like some languages, but it uses conventions to indicate the level of access.\n",
    "\n",
    " 1. Public Members\n",
    "Accessible from anywhere.\n",
    "\n",
    " 2. Protected Members\n",
    "Conventionally intended to be used only within the class or subclasses.\n",
    "\n",
    "Single underscore _ prefix.\n",
    "\n",
    " 3. Private Members\n",
    "Double underscore __ prefix → triggers name mangling.\n",
    "\n",
    "Makes it harder (but not impossible) to access from outside.\n",
    "\n",
    "Access Level | Prefix | Access Scope\n",
    "Public | name | Anywhere\n",
    "Protected | _name | Within class & subclasses\n",
    "Private | __name | Within class only (mangled)\n",
    "'''"
   ]
  },
  {
   "cell_type": "code",
   "execution_count": 7,
   "id": "b2748d6a-cd3d-4df5-a938-bc4ec2eeca9f",
   "metadata": {},
   "outputs": [
    {
     "name": "stdout",
     "output_type": "stream",
     "text": [
      "Alice\n"
     ]
    }
   ],
   "source": [
    "#Example of Public members\n",
    "class Person:\n",
    "    def __init__(self, name):\n",
    "        self.name = name  # public\n",
    "\n",
    "p = Person(\"Alice\")\n",
    "print(p.name)  # ✅ works\n"
   ]
  },
  {
   "cell_type": "code",
   "execution_count": 8,
   "id": "f66849fb-2bde-4409-86d4-c3297eb1f30b",
   "metadata": {},
   "outputs": [
    {
     "name": "stdout",
     "output_type": "stream",
     "text": [
      "Bob\n"
     ]
    }
   ],
   "source": [
    "#Example of protected members\n",
    "class Person:\n",
    "    def __init__(self, name):\n",
    "        self._name = name  # protected\n",
    "\n",
    "p = Person(\"Bob\")\n",
    "print(p._name)  # ⚠️ still accessible, but discouraged\n"
   ]
  },
  {
   "cell_type": "code",
   "execution_count": 9,
   "id": "4f2a2811-7639-404c-aa4c-09d3d2fd0a7c",
   "metadata": {},
   "outputs": [
    {
     "name": "stdout",
     "output_type": "stream",
     "text": [
      "Charlie\n"
     ]
    }
   ],
   "source": [
    "#Example of private members\n",
    "class Person:\n",
    "    def __init__(self, name):\n",
    "        self.__name = name  # private\n",
    "\n",
    "    def get_name(self):\n",
    "        return self.__name  # getter method\n",
    "\n",
    "p = Person(\"Charlie\")\n",
    "# print(p.__name) ❌ AttributeError\n",
    "print(p.get_name())   # ✅ Charlie\n"
   ]
  },
  {
   "cell_type": "code",
   "execution_count": null,
   "id": "07c7c916-dd8e-41cc-be28-050fe829eb36",
   "metadata": {},
   "outputs": [],
   "source": [
    "#what is a constructor in python?\n",
    "\n",
    "'''\n",
    "->In Python, a constructor is a special method called __init__() that is automatically run when a new object is created from a class.\n",
    "\n",
    "It’s used to initialize the object’s attributes and set it up with any necessary starting data.\n",
    "\n",
    "EXAMPLE\n",
    "'''"
   ]
  },
  {
   "cell_type": "code",
   "execution_count": 10,
   "id": "ecf732ab-9692-480d-84d3-441ffe738638",
   "metadata": {},
   "outputs": [
    {
     "name": "stdout",
     "output_type": "stream",
     "text": [
      "Alice\n",
      "25\n"
     ]
    }
   ],
   "source": [
    "class Person:\n",
    "    def __init__(self, name, age):  # Constructor\n",
    "        self.name = name\n",
    "        self.age = age\n",
    "\n",
    "# Creating an object\n",
    "p = Person(\"Alice\", 25)\n",
    "\n",
    "print(p.name)  # Output: Alice\n",
    "print(p.age)   # Output: 25\n"
   ]
  },
  {
   "cell_type": "code",
   "execution_count": null,
   "id": "c147078f-b464-4d84-8c5d-e4f9dcd47705",
   "metadata": {},
   "outputs": [],
   "source": [
    "'''\n",
    "Without a Constructor?\n",
    "If you don’t define __init__(), Python uses a default constructor that doesn’t do any initialization.\n",
    "'''"
   ]
  },
  {
   "cell_type": "code",
   "execution_count": 11,
   "id": "dc2a1c3f-7947-4cea-8f86-f3b8618b1aad",
   "metadata": {},
   "outputs": [
    {
     "name": "stdout",
     "output_type": "stream",
     "text": [
      "Toyota\n"
     ]
    }
   ],
   "source": [
    "class Car:\n",
    "    def __init__(self, brand=\"Toyota\"):\n",
    "        self.brand = brand\n",
    "\n",
    "c = Car()\n",
    "print(c.brand)  # Toyota\n"
   ]
  },
  {
   "cell_type": "code",
   "execution_count": null,
   "id": "f06f6db3-6fd9-4eeb-9bb7-15d2fd32cbbb",
   "metadata": {},
   "outputs": [],
   "source": [
    "#What are class and static methods in python?\n",
    "\n",
    "'''\n",
    "->In Python, class methods and static methods are two special types of methods that aren't quite the same as regular instance methods.\n",
    "\n",
    " 1. Class Methods (@classmethod)\n",
    "Belong to the class, not the instance.\n",
    "\n",
    "Take cls as the first argument (not self).\n",
    "\n",
    "Can access and modify class-level data.\n",
    "'''"
   ]
  },
  {
   "cell_type": "code",
   "execution_count": 12,
   "id": "e61bf0a0-8065-4f17-92b6-c1cbb98b3c8f",
   "metadata": {},
   "outputs": [
    {
     "name": "stdout",
     "output_type": "stream",
     "text": [
      "Human\n"
     ]
    }
   ],
   "source": [
    "class Person:\n",
    "    species = \"Human\"\n",
    "\n",
    "    def __init__(self, name):\n",
    "        self.name = name\n",
    "\n",
    "    @classmethod\n",
    "    def get_species(cls):\n",
    "        return cls.species\n",
    "\n",
    "print(Person.get_species())  # Output: Human\n"
   ]
  },
  {
   "cell_type": "code",
   "execution_count": null,
   "id": "db3c8813-bb59-4250-a815-b35a7a3cacb9",
   "metadata": {},
   "outputs": [],
   "source": [
    "'''\n",
    "2. Static Methods (@staticmethod)\n",
    "Belong to the class but don’t take self or cls.\n",
    "\n",
    "Behave like regular functions that just happen to live inside a class.\n",
    "\n",
    "Can’t access or modify class or instance data.\n",
    "'''"
   ]
  },
  {
   "cell_type": "code",
   "execution_count": 13,
   "id": "71b26f65-d006-4f8e-a308-e5c3d84f2229",
   "metadata": {},
   "outputs": [
    {
     "name": "stdout",
     "output_type": "stream",
     "text": [
      "7\n"
     ]
    }
   ],
   "source": [
    "class MathUtils:\n",
    "    @staticmethod\n",
    "    def add(a, b):\n",
    "        return a + b\n",
    "\n",
    "print(MathUtils.add(3, 4))  # Output: 7\n"
   ]
  },
  {
   "cell_type": "code",
   "execution_count": null,
   "id": "41b912ce-d6aa-478a-94a5-ce410f6a5dd2",
   "metadata": {},
   "outputs": [],
   "source": [
    "#What is method overloading in python?\n",
    "\n",
    "'''\n",
    "->What is Method Overloading?\n",
    "Method overloading means having multiple methods with the same name but different parameters (like different number or types of arguments).\n",
    "\n",
    "-> In some languages like Java or C++, this is done with multiple method definitions.\n",
    "\n",
    "In Python?\n",
    "\n",
    "- Python does not support traditional method overloading out of the box.\n",
    "- If you define a method multiple times with the same name, the last one overrides the others.'''"
   ]
  },
  {
   "cell_type": "code",
   "execution_count": 1,
   "id": "108d027c-9b4b-439f-ac01-6b04ef080cd3",
   "metadata": {},
   "outputs": [
    {
     "name": "stdout",
     "output_type": "stream",
     "text": [
      "Hello Alice\n"
     ]
    }
   ],
   "source": [
    "#This doesn’t work in Python:\n",
    "class Example:\n",
    "    def greet(self):\n",
    "        print(\"Hello\")\n",
    "\n",
    "    def greet(self, name):  # Overrides the previous one\n",
    "        print(f\"Hello {name}\")\n",
    "\n",
    "obj = Example()\n",
    "obj.greet(\"Alice\")   # Works\n",
    "# obj.greet()        # ❌ Error: missing 1 required argument\n"
   ]
  },
  {
   "cell_type": "code",
   "execution_count": 15,
   "id": "4bc30b39-2233-497f-948e-ee670d39d5f5",
   "metadata": {},
   "outputs": [
    {
     "name": "stdout",
     "output_type": "stream",
     "text": [
      "Hello\n",
      "Hello Alice\n"
     ]
    }
   ],
   "source": [
    "#Pythonic Way: Using Default Arguments.You can mimic overloading by using default parameters or *args / **kwargs.\n",
    "class Example:\n",
    "    def greet(self, name=None):\n",
    "        if name:\n",
    "            print(f\"Hello {name}\")\n",
    "        else:\n",
    "            print(\"Hello\")\n",
    "\n",
    "obj = Example()\n",
    "obj.greet()           # Output: Hello\n",
    "obj.greet(\"Alice\")    # Output: Hello Alice\n"
   ]
  },
  {
   "cell_type": "code",
   "execution_count": 16,
   "id": "551f2f11-18ee-47d9-b58e-2d9df053675c",
   "metadata": {},
   "outputs": [
    {
     "name": "stdout",
     "output_type": "stream",
     "text": [
      "5\n",
      "10\n"
     ]
    }
   ],
   "source": [
    "#Or using *args:\n",
    "class Math:\n",
    "    def add(self, *args):\n",
    "        return sum(args)\n",
    "\n",
    "m = Math()\n",
    "print(m.add(2, 3))           # 5\n",
    "print(m.add(1, 2, 3, 4))     # 10\n"
   ]
  },
  {
   "cell_type": "code",
   "execution_count": null,
   "id": "e0d6b106-d0ce-4842-908e-8e0777a2c891",
   "metadata": {},
   "outputs": [],
   "source": [
    "#What is method overriding in OOP?\n",
    "\n",
    "'''\n",
    "->Method overriding in Object-Oriented Programming (OOP) is when a subclass provides a specific implementation of a method that is already defined in its superclass.\n",
    "\n",
    "Here’s a breakdown:\n",
    "\n",
    "The method in the subclass has the same name, return type, and parameters as the one in the superclass.\n",
    "\n",
    "The version in the subclass “overrides” (replaces) the one in the superclass when called on an instance of the subclass.\n",
    "\n",
    "It’s used to implement polymorphism, allowing behavior to be customized.\n",
    "\n",
    "EXAMPLE:\n",
    "'''"
   ]
  },
  {
   "cell_type": "code",
   "execution_count": 2,
   "id": "4c1e7f11-b8d8-4dde-967e-fc5d139a1f3a",
   "metadata": {},
   "outputs": [
    {
     "name": "stdout",
     "output_type": "stream",
     "text": [
      "The animal makes a sound\n",
      "The dog barks\n"
     ]
    }
   ],
   "source": [
    "class Animal:\n",
    "    def speak(self):\n",
    "        print(\"The animal makes a sound\")\n",
    "\n",
    "class Dog(Animal):\n",
    "    def speak(self):\n",
    "        print(\"The dog barks\")\n",
    "\n",
    "a = Animal()\n",
    "a.speak()  # Output: The animal makes a sound\n",
    "\n",
    "d = Dog()\n",
    "d.speak()  # Output: The dog barks\n"
   ]
  },
  {
   "cell_type": "code",
   "execution_count": null,
   "id": "a1a93deb-f96b-461f-8166-7af083cbdc2c",
   "metadata": {},
   "outputs": [],
   "source": [
    "#What is a property decorator in python?\n",
    "\n",
    "'''\n",
    "->The @property decorator in Python is used to turn a method into a \"getter\" for a read-only attribute—essentially, it lets you access a method like it's an attribute.\n",
    "\n",
    "It’s super useful when you want to control access to a class attribute, while still using dot notation (e.g., obj.name instead of obj.get_name()).\n",
    "\n",
    "EXAMPLE:\n",
    "\n",
    "'''"
   ]
  },
  {
   "cell_type": "code",
   "execution_count": 3,
   "id": "6a6f359e-8fc8-43f3-9f7e-2b512fc59e8d",
   "metadata": {},
   "outputs": [
    {
     "name": "stdout",
     "output_type": "stream",
     "text": [
      "78.5\n"
     ]
    }
   ],
   "source": [
    "class Circle:\n",
    "    def __init__(self, radius):\n",
    "        self._radius = radius\n",
    "\n",
    "    @property\n",
    "    def area(self):\n",
    "        return 3.14 * self._radius ** 2\n",
    "\n",
    "c = Circle(5)\n",
    "print(c.area)  # Output: 78.5\n",
    "# c.area = 100  # This will raise an error because it's read-only\n"
   ]
  },
  {
   "cell_type": "code",
   "execution_count": null,
   "id": "d15f494c-3da8-4a42-b49a-872aa2ad465e",
   "metadata": {},
   "outputs": [],
   "source": [
    "#Why is polymorphism important in OOP?\n",
    "\n",
    "'''\n",
    "->Polymorphism is important in OOP because it lets different objects respond to the same method call in their own way, making code more flexible, extensible, and easier to maintain.\n",
    "\n",
    "Why it matters:\n",
    "\n",
    "1. Code Reusability – You can write functions or methods that work with objects of different classes.\n",
    "\n",
    "2. Simplified Interface – You can treat different types of objects through a common interface, reducing complexity.\n",
    "\n",
    "3. Scalability – Adding new classes with their own behaviors doesn't require changing existing code.\n",
    "\n",
    "4. Encapsulation – It hides the specific implementation behind a shared interface.\n",
    "\n",
    "EXAMPLE:\n",
    "\n",
    "'''"
   ]
  },
  {
   "cell_type": "code",
   "execution_count": 4,
   "id": "8e565a9d-43ba-4868-aa39-0c8b8541875d",
   "metadata": {},
   "outputs": [
    {
     "name": "stdout",
     "output_type": "stream",
     "text": [
      "Bark\n",
      "Meow\n"
     ]
    }
   ],
   "source": [
    "class Animal:\n",
    "    def speak(self):\n",
    "        pass\n",
    "\n",
    "class Dog(Animal):\n",
    "    def speak(self):\n",
    "        return \"Bark\"\n",
    "\n",
    "class Cat(Animal):\n",
    "    def speak(self):\n",
    "        return \"Meow\"\n",
    "\n",
    "def animal_sound(animal):\n",
    "    print(animal.speak())\n",
    "\n",
    "animal_sound(Dog())  # Output: Bark\n",
    "animal_sound(Cat())  # Output: Meow\n"
   ]
  },
  {
   "cell_type": "code",
   "execution_count": null,
   "id": "f37ee576-46f1-4303-8c75-a03e410cd5d3",
   "metadata": {},
   "outputs": [],
   "source": [
    "#What is an abstract class in python?\n",
    "\n",
    "'''\n",
    "->An abstract class in Python is a class that can’t be instantiated on its own and is meant to be inherited by other classes. It defines a common interface for its subclasses and often includes abstract methods that must be implemented by any subclass.\n",
    "\n",
    "You create abstract classes using the abc module:\n",
    "\n",
    "Key features:\n",
    "\n",
    "- Use from abc import ABC, abstractmethod\n",
    "\n",
    "- Inherit from ABC (Abstract Base Class)\n",
    "\n",
    "- Use @abstractmethod to mark methods that must be overridden\n",
    "\n",
    "EXAMPLE:\n",
    "\n",
    "'''"
   ]
  },
  {
   "cell_type": "code",
   "execution_count": 5,
   "id": "926d300c-9d7b-40d2-a232-769f133a0866",
   "metadata": {},
   "outputs": [
    {
     "name": "stdout",
     "output_type": "stream",
     "text": [
      "Bark\n"
     ]
    }
   ],
   "source": [
    "from abc import ABC, abstractmethod\n",
    "\n",
    "class Animal(ABC):\n",
    "    @abstractmethod\n",
    "    def speak(self):\n",
    "        pass\n",
    "\n",
    "class Dog(Animal):\n",
    "    def speak(self):\n",
    "        return \"Bark\"\n",
    "\n",
    "# a = Animal()  # Error: Can't instantiate abstract class\n",
    "d = Dog()\n",
    "print(d.speak())  # Output: Bark\n"
   ]
  },
  {
   "cell_type": "code",
   "execution_count": null,
   "id": "064ae034-8aef-4402-a6af-822dde3aa858",
   "metadata": {},
   "outputs": [],
   "source": [
    "#What are the advantages of OOP?\n",
    "\n",
    "'''\n",
    "->Major Advantages of OOP:\n",
    "\n",
    "1. Modularity\n",
    "\n",
    "Code is organized into classes, making it easier to manage and separate concerns.\n",
    "\n",
    "2. Reusability\n",
    "\n",
    "Classes can be reused across projects, and inheritance allows code sharing between classes.\n",
    "\n",
    "3. Encapsulation\n",
    "\n",
    "Hides internal state and requires all interaction through methods, improving security and maintainability.\n",
    "\n",
    "4. Polymorphism\n",
    "\n",
    "Lets you use the same interface for different underlying data types, making code flexible and extensible.\n",
    "\n",
    "5. Inheritance\n",
    "\n",
    "Enables new classes to be built on top of existing ones, reducing code duplication.\n",
    "\n",
    "6. Easier Maintenance\n",
    "\n",
    "OOP code is typically easier to debug, update, and refactor due to its structured nature.\n",
    "\n",
    "7. Scalability\n",
    "\n",
    "Object-based systems are easier to scale since new features can be added with minimal changes to existing code.\n",
    "\n",
    "8. Real-World Modeling\n",
    "\n",
    "OOP maps closely to real-world concepts, making it intuitive for modeling complex systems.\n",
    "\n",
    "\n",
    "'''"
   ]
  },
  {
   "cell_type": "code",
   "execution_count": null,
   "id": "be05ae2c-c490-47d0-9445-260ad0475846",
   "metadata": {},
   "outputs": [],
   "source": [
    "#What is the difference between an class variable and an instance variable?\n",
    "\n",
    "'''\n",
    "-> Class Variable:\n",
    "\n",
    "Shared across all instances of the class.\n",
    "\n",
    "Defined inside the class, but outside any methods.\n",
    "\n",
    "If one object changes it, all other objects see the change (unless overridden).\n",
    "\n",
    "python\n",
    "Copy\n",
    "Edit\n",
    "\n",
    "\n",
    "Instance Variable:\n",
    "\n",
    "Unique to each object (instance).\n",
    "\n",
    "Defined inside methods, typically in __init__() using self.\n",
    "\n",
    "'''"
   ]
  },
  {
   "cell_type": "code",
   "execution_count": 6,
   "id": "422ffbd4-ea69-4386-93da-6b1ae1af1734",
   "metadata": {},
   "outputs": [],
   "source": [
    "#Example of class variable\n",
    "class Dog:\n",
    "    species = \"Canine\"  # class variable\n",
    "\n",
    "    def __init__(self, name):\n",
    "        self.name = name  # instance variable\n"
   ]
  },
  {
   "cell_type": "code",
   "execution_count": 7,
   "id": "7b332ed4-0703-4513-b581-e7e77a4f76af",
   "metadata": {},
   "outputs": [
    {
     "name": "stdout",
     "output_type": "stream",
     "text": [
      "Canine\n",
      "Canine\n",
      "Max\n",
      "Rex\n"
     ]
    }
   ],
   "source": [
    "#Example of instance variable\n",
    "dog1 = Dog(\"Buddy\")\n",
    "dog2 = Dog(\"Rex\")\n",
    "\n",
    "print(dog1.species)  # Canine\n",
    "print(dog2.species)  # Canine\n",
    "\n",
    "dog1.name = \"Max\"\n",
    "print(dog1.name)     # Max\n",
    "print(dog2.name)     # Rex\n",
    "\n"
   ]
  },
  {
   "cell_type": "code",
   "execution_count": null,
   "id": "e6d77af5-4722-4783-8fc7-a2fc617ebddc",
   "metadata": {},
   "outputs": [],
   "source": [
    "#What is multiple inheritance of OOP?\n",
    "\n",
    "'''\n",
    "->Multiple inheritance in Python is when a class inherits from more than one parent class. This allows the child class to have access to attributes and methods from all parent classes.\n",
    "\n",
    "EXAMPLE:\n",
    "\n",
    "'''"
   ]
  },
  {
   "cell_type": "code",
   "execution_count": 8,
   "id": "44709c92-a373-4781-b62f-90e3dbcda233",
   "metadata": {},
   "outputs": [
    {
     "name": "stdout",
     "output_type": "stream",
     "text": [
      "Hello from A\n"
     ]
    }
   ],
   "source": [
    "class A:\n",
    "    def greet(self):\n",
    "        print(\"Hello from A\")\n",
    "\n",
    "class B:\n",
    "    def greet(self):\n",
    "        print(\"Hello from B\")\n",
    "\n",
    "class C(A, B):\n",
    "    pass\n",
    "\n",
    "obj = C()\n",
    "obj.greet()  # Output: Hello from A (because A is listed first)\n"
   ]
  },
  {
   "cell_type": "code",
   "execution_count": null,
   "id": "76cf3ab3-33ec-4ac2-aaed-de76a16b0670",
   "metadata": {},
   "outputs": [],
   "source": [
    "#Explain the purpose of \"_ _str _ _'and' _ _repr _ _\" methods in python\n",
    "\n",
    "'''\n",
    "->__str__(self) – User-friendly string representation\n",
    "\n",
    "1. Used by the print() function and str().\n",
    "\n",
    "2. Intended to be readable and descriptive for end-users.\n",
    "\n",
    "3. Think of it as: “What do I want someone to see when they print this object?”\n",
    "\n",
    "\n",
    "__repr__(self) – Developer-friendly (unambiguous) representation\n",
    "\n",
    "1. Used in the interactive shell and by the repr() function.\n",
    "\n",
    "2. Should return a string that could, ideally, recreate the object.\n",
    "\n",
    "3. Think of it as: “What do I want a developer to see when debugging?”'''"
   ]
  },
  {
   "cell_type": "code",
   "execution_count": 9,
   "id": "36eaede5-b643-49f3-8ad3-66da1340769a",
   "metadata": {},
   "outputs": [
    {
     "name": "stdout",
     "output_type": "stream",
     "text": [
      "Book: 1984\n"
     ]
    }
   ],
   "source": [
    "#Example of __str__(self) – User-friendly string representation\n",
    "class Book:\n",
    "    def __init__(self, title):\n",
    "        self.title = title\n",
    "\n",
    "    def __str__(self):\n",
    "        return f\"Book: {self.title}\"\n",
    "\n",
    "print(Book(\"1984\"))  # Output: Book: 1984\n"
   ]
  },
  {
   "cell_type": "code",
   "execution_count": 10,
   "id": "487d2285-b7ad-402d-838d-40d3b942045f",
   "metadata": {},
   "outputs": [
    {
     "data": {
      "text/plain": [
       "\"Book('1984')\""
      ]
     },
     "execution_count": 10,
     "metadata": {},
     "output_type": "execute_result"
    }
   ],
   "source": [
    "#Example of __repr__(self) – Developer-friendly (unambiguous) representation\n",
    "class Book:\n",
    "    def __init__(self, title):\n",
    "        self.title = title\n",
    "\n",
    "    def __repr__(self):\n",
    "        return f\"Book('{self.title}')\"\n",
    "\n",
    "repr(Book(\"1984\"))  # Output: Book('1984')\n"
   ]
  },
  {
   "cell_type": "code",
   "execution_count": null,
   "id": "afa7fe2e-3001-4803-867a-3e3ba4b77836",
   "metadata": {},
   "outputs": [],
   "source": [
    "#what is the significance of the 'super()' function in python?\n",
    "\n",
    "'''\n",
    "->The super() function in Python is used to call a method from a parent class (also called a superclass) from within a subclass. It allows you to access and extend functionality from the parent class without directly referencing the parent class by name.\n",
    "\n",
    "\n",
    "Key Purposes of super():\n",
    "\n",
    "Calling parent class methods: It lets you call methods from the parent class, which can be useful when extending or overriding them.\n",
    "\n",
    "Avoiding direct parent class references: By using super(), you don't need to hard-code the parent class name, which is especially useful in the context of multiple inheritance.\n",
    "\n",
    "Ensuring method resolution order (MRO) works properly: super() follows the method resolution order, which is particularly useful in complex inheritance hierarchies.\n",
    "\n",
    "Use in Multiple Inheritance:\n",
    "\n",
    "In cases of multiple inheritance, super() respects the method resolution order (MRO) to ensure that the correct methods from the parent classes are called in the correct order.\n",
    "\n",
    "Why is super() Useful?\n",
    "\n",
    "Avoids duplication: You don’t need to manually call methods from each parent class when multiple inheritance is involved.\n",
    "\n",
    "Enhances maintainability: It makes the code more flexible and easier to maintain by avoiding hardcoded class names.\n",
    "\n",
    "Supports cooperative multiple inheritance: In complex class hierarchies, super() helps ensure that every class in the hierarchy gets a chance to contribute its behavior.\n",
    "\n",
    "'''"
   ]
  },
  {
   "cell_type": "code",
   "execution_count": 11,
   "id": "9a71d4dc-e0ec-4d38-b4e3-41545f08f94a",
   "metadata": {},
   "outputs": [
    {
     "name": "stdout",
     "output_type": "stream",
     "text": [
      "Animal speaks\n",
      "Dog barks\n"
     ]
    }
   ],
   "source": [
    "#Example of super()\n",
    "class Animal:\n",
    "    def speak(self):\n",
    "        print(\"Animal speaks\")\n",
    "\n",
    "class Dog(Animal):\n",
    "    def speak(self):\n",
    "        super().speak()  # Call the parent class method\n",
    "        print(\"Dog barks\")\n",
    "\n",
    "dog = Dog()\n",
    "dog.speak()\n",
    "# Output:\n",
    "# Animal speaks\n",
    "# Dog barks\n"
   ]
  },
  {
   "cell_type": "code",
   "execution_count": 12,
   "id": "76ea735e-d240-445d-8f34-c489a75db600",
   "metadata": {},
   "outputs": [
    {
     "name": "stdout",
     "output_type": "stream",
     "text": [
      "Hello from A\n",
      "Hello from C\n"
     ]
    }
   ],
   "source": [
    "#Example of multiple inheritance\n",
    "class A:\n",
    "    def greet(self):\n",
    "        print(\"Hello from A\")\n",
    "\n",
    "class B:\n",
    "    def greet(self):\n",
    "        print(\"Hello from B\")\n",
    "\n",
    "class C(A, B):\n",
    "    def greet(self):\n",
    "        super().greet()\n",
    "        print(\"Hello from C\")\n",
    "\n",
    "c = C()\n",
    "c.greet()\n",
    "# Output:\n",
    "# Hello from A\n",
    "# Hello from C\n"
   ]
  },
  {
   "cell_type": "code",
   "execution_count": 13,
   "id": "f8c34e63-112a-45ac-89a3-caebaade1639",
   "metadata": {},
   "outputs": [
    {
     "name": "stdout",
     "output_type": "stream",
     "text": [
      "Hello\n"
     ]
    }
   ],
   "source": [
    "# defining function\n",
    "def func():\n",
    "    print(\"Hello\")\n",
    "\n",
    "# calling function    \n",
    "func()\n"
   ]
  },
  {
   "cell_type": "code",
   "execution_count": null,
   "id": "f6cb60a3-0c59-4665-9097-43f41c46df1d",
   "metadata": {},
   "outputs": [],
   "source": [
    "#what is the significance of the _ _ del _ _ method in python?\n",
    "\n",
    "'''\n",
    "->The __del__ method in Python is known as a destructor, and its main role is to define what should happen when an object is about to be destroyed (i.e., when it's garbage collected).\n",
    "\n",
    "\n",
    "\n",
    "Key Significance of __del__:\n",
    "\n",
    "1. Resource Cleanup:\n",
    "It’s commonly used to clean up external resources like open files, network connections, or database handles when the object is no longer needed.\n",
    "\n",
    "2. Triggered by Garbage Collection:\n",
    "Python calls __del__ when an object’s reference count drops to zero, meaning no part of the program is using it anymore.\n",
    "\n",
    "3. Acts as a Finalizer:\n",
    "It provides a way to define custom behavior when an object is finalized, kind of like a “last rites” method.\n",
    "\n",
    "EXAMPLE:\n",
    "\n",
    "'''"
   ]
  },
  {
   "cell_type": "code",
   "execution_count": 1,
   "id": "54d199c9-8d7c-4995-9fcc-56e8027c52b9",
   "metadata": {},
   "outputs": [
    {
     "name": "stdout",
     "output_type": "stream",
     "text": [
      "File opened.\n",
      "File closed.\n"
     ]
    }
   ],
   "source": [
    "class FileHandler:\n",
    "    def __init__(self, filename):\n",
    "        self.file = open(filename, 'w')\n",
    "        print(\"File opened.\")\n",
    "\n",
    "    def __del__(self):\n",
    "        self.file.close()\n",
    "        print(\"File closed.\")\n",
    "\n",
    "f = FileHandler('test.txt')\n",
    "del f  # Triggers __del__\n"
   ]
  },
  {
   "cell_type": "code",
   "execution_count": null,
   "id": "6882e48e-2966-456a-9350-3c09037a872d",
   "metadata": {},
   "outputs": [],
   "source": [
    "#what is the difference between @staticmethod and @classmethod in python?\n",
    "\n",
    "'''\n",
    "->@staticmethod:\n",
    "\n",
    "- Doesn’t take self or cls as its first argument.\n",
    "\n",
    "- It doesn't depend on the class or instance.\n",
    "\n",
    "- Behaves like a regular function, just placed inside a class for organizational purposes.\n",
    "\n",
    "\n",
    "@classmethod:\n",
    "Takes cls as the first argument.\n",
    "\n",
    "It has access to the class itself, so it can modify class-level state or create instances.\n",
    "\n",
    "'''"
   ]
  },
  {
   "cell_type": "code",
   "execution_count": 2,
   "id": "af8c6996-1708-4106-b996-fc678093ef1f",
   "metadata": {},
   "outputs": [
    {
     "name": "stdout",
     "output_type": "stream",
     "text": [
      "5\n"
     ]
    }
   ],
   "source": [
    "#Example of @staticmethod \n",
    "class Math:\n",
    "    @staticmethod\n",
    "    def add(x, y):\n",
    "        return x + y\n",
    "\n",
    "print(Math.add(2, 3))  \n"
   ]
  },
  {
   "cell_type": "code",
   "execution_count": 3,
   "id": "a0b38273-a4b5-4f66-b195-41ac50da6773",
   "metadata": {},
   "outputs": [
    {
     "name": "stdout",
     "output_type": "stream",
     "text": [
      "0\n",
      "2\n"
     ]
    }
   ],
   "source": [
    "#Example of classmethod\n",
    "class Person:\n",
    "    count = 0\n",
    "\n",
    "    def __init__(self):\n",
    "        Person.count += 1\n",
    "\n",
    "    @classmethod\n",
    "    def get_count(cls):\n",
    "        return cls.count\n",
    "\n",
    "print(Person.get_count())  \n",
    "p1 = Person()\n",
    "p2 = Person()\n",
    "print(Person.get_count())  \n"
   ]
  },
  {
   "cell_type": "code",
   "execution_count": null,
   "id": "446acae6-e8ac-4abd-b10c-53d73c3202bb",
   "metadata": {},
   "outputs": [],
   "source": [
    "#How does polymorphism work in python with inheritance?\n",
    "\n",
    "'''\n",
    "->Polymorphism in Python with inheritance lets you use a single interface (like a method name) to represent different underlying behaviors, depending on the object type.\n",
    "It’s a core concept of object-oriented programming that makes code more flexible and extensible.\n",
    "\n",
    "How It Works:\n",
    "\n",
    "When multiple classes inherit from a common base class, they can override the same method, and Python will automatically call the appropriate version of the method based on the object’s actual class — even if you're referring to it through the base class.\n",
    "\n",
    "example:\n",
    "'''"
   ]
  },
  {
   "cell_type": "code",
   "execution_count": 12,
   "id": "2848ec12-19ad-4d24-8f44-8a1ca48293c0",
   "metadata": {},
   "outputs": [
    {
     "name": "stdout",
     "output_type": "stream",
     "text": [
      "Woof!\n",
      "Meow!\n"
     ]
    }
   ],
   "source": [
    "class Animal:\n",
    "    def speak(self):\n",
    "        return \"Some sound\"\n",
    "\n",
    "class Dog(Animal):\n",
    "    def speak(self):\n",
    "        return \"Woof!\"\n",
    "\n",
    "class Cat(Animal):\n",
    "    def speak(self):\n",
    "        return \"Meow!\"\n",
    "\n",
    "def make_animal_speak(animal):\n",
    "    print(animal.speak())\n",
    "\n",
    "# Polymorphism in action\n",
    "make_animal_speak(Dog())   \n",
    "make_animal_speak(Cat())   \n"
   ]
  },
  {
   "cell_type": "code",
   "execution_count": null,
   "id": "4e9192f3-3508-412b-956f-3afb8d6b58b2",
   "metadata": {},
   "outputs": [],
   "source": [
    "#What is method changing in python OOP?\n",
    "\n",
    "'''\n",
    "-> What is Method Chaining?\n",
    "\n",
    "Method chaining is a technique where you call multiple methods on the same object in a single line, one after another, like a chain.\n",
    "\n",
    "Each method returns the object itself (usually with return self), allowing the next method to be called on it.\n",
    "\n",
    "\n",
    "Benefits:\n",
    "\n",
    "More concise and readable code.\n",
    "\n",
    "Great for builder patterns, data pipelines, or configuration flows.\n",
    "\n",
    "Example:\n",
    "'''"
   ]
  },
  {
   "cell_type": "code",
   "execution_count": 9,
   "id": "6e3676bb-632f-4afc-af69-f029867aa54e",
   "metadata": {},
   "outputs": [
    {
     "name": "stdout",
     "output_type": "stream",
     "text": [
      "HELLO WORLD! \n"
     ]
    },
    {
     "data": {
      "text/plain": [
       "<__main__.TextEditor at 0x1cfe4853440>"
      ]
     },
     "execution_count": 9,
     "metadata": {},
     "output_type": "execute_result"
    }
   ],
   "source": [
    "class TextEditor:\n",
    "    def __init__(self, text=''):\n",
    "        self.text = text\n",
    "\n",
    "    def add(self, new_text):\n",
    "        self.text += new_text\n",
    "        return self\n",
    "\n",
    "    def uppercase(self):\n",
    "        self.text = self.text.upper()\n",
    "        return self\n",
    "\n",
    "    def display(self):\n",
    "        print(self.text)\n",
    "        return self\n",
    "\n",
    "# Method chaining in action\n",
    "editor = TextEditor()\n",
    "editor.add('hello ').add('world! ').uppercase().display()\n"
   ]
  },
  {
   "cell_type": "code",
   "execution_count": null,
   "id": "41893189-67fe-44c7-bf87-8373ee47c4bf",
   "metadata": {},
   "outputs": [],
   "source": [
    "#what is the purpose of the _ _ call _ _ method in python?\n",
    "\n",
    "'''\n",
    "->Purpose of __call__:\n",
    "\n",
    "The __call__ method turns an object into a callable, which means you can use parentheses () after the object — just like calling a function.\n",
    "\n",
    "Use Cases:\n",
    "\n",
    "Function objects (functors) — objects that behave like functions.\n",
    "\n",
    "Decorators — many decorator classes use __call__.\n",
    "\n",
    "Machine learning models — frameworks like PyTorch use it to run models as if they were functions.\n",
    "\n",
    "Caching or memoization — wrap logic inside callable objects.\n",
    "\n",
    "\n",
    "Example:\n",
    "'''"
   ]
  },
  {
   "cell_type": "code",
   "execution_count": 11,
   "id": "60c33339-e9a9-4404-b53c-676759afbced",
   "metadata": {},
   "outputs": [
    {
     "name": "stdout",
     "output_type": "stream",
     "text": [
      "Hello, Alice!\n"
     ]
    }
   ],
   "source": [
    "class Greeter:\n",
    "    def __init__(self, name):\n",
    "        self.name = name\n",
    "\n",
    "    def __call__(self):\n",
    "        return f\"Hello, {self.name}!\"\n",
    "\n",
    "greet = Greeter(\"Alice\")\n",
    "print(greet())  \n"
   ]
  },
  {
   "cell_type": "markdown",
   "id": "5592c682-74bf-406b-8b23-63b9418419cb",
   "metadata": {},
   "source": [
    "#PRACTICAL QUESTION\n"
   ]
  },
  {
   "cell_type": "code",
   "execution_count": 13,
   "id": "550f9b93-3113-4ac7-93ba-4b7a2025a931",
   "metadata": {},
   "outputs": [
    {
     "name": "stdout",
     "output_type": "stream",
     "text": [
      "This animal makes a sound.\n",
      "Bark!\n"
     ]
    }
   ],
   "source": [
    "#Create a parent class  animal with a method speak() that prints a genetic message. Create a child class dog that overrides the speak() method to print \"Bark!\"\n",
    "\n",
    "class Animal:\n",
    "    def speak(self):\n",
    "        print(\"This animal makes a sound.\")\n",
    "\n",
    "class Dog(Animal):\n",
    "    def speak(self):\n",
    "        print(\"Bark!\")\n",
    "\n",
    "# Example usage\n",
    "a = Animal()\n",
    "a.speak()   # Output: This animal makes a sound.\n",
    "\n",
    "d = Dog()\n",
    "d.speak()   # Output: Bark!\n"
   ]
  },
  {
   "cell_type": "code",
   "execution_count": 14,
   "id": "4d8e7bc3-9ae9-490f-9326-6787b5651b43",
   "metadata": {},
   "outputs": [
    {
     "name": "stdout",
     "output_type": "stream",
     "text": [
      "The area is: 78.54\n",
      "The area is: 24.00\n"
     ]
    }
   ],
   "source": [
    "#Write a program to create an abstract class shape with a method area (). Derive classes circle and rectangle from it and implement the area () method in both.\n",
    "\n",
    "from abc import ABC, abstractmethod\n",
    "import math\n",
    "\n",
    "# Abstract base class\n",
    "class Shape(ABC):\n",
    "    @abstractmethod\n",
    "    def area(self):\n",
    "        pass\n",
    "\n",
    "# Derived class: Circle\n",
    "class Circle(Shape):\n",
    "    def __init__(self, radius):\n",
    "        self.radius = radius\n",
    "\n",
    "    def area(self):\n",
    "        return math.pi * self.radius ** 2\n",
    "\n",
    "# Derived class: Rectangle\n",
    "class Rectangle(Shape):\n",
    "    def __init__(self, width, height):\n",
    "        self.width = width\n",
    "        self.height = height\n",
    "\n",
    "    def area(self):\n",
    "        return self.width * self.height\n",
    "\n",
    "# Example usage\n",
    "shapes = [\n",
    "    Circle(5),\n",
    "    Rectangle(4, 6)\n",
    "]\n",
    "\n",
    "for shape in shapes:\n",
    "    print(f\"The area is: {shape.area():.2f}\")\n"
   ]
  },
  {
   "cell_type": "code",
   "execution_count": 15,
   "id": "44450763-ca9f-4ad8-9caf-bbdda5a662b9",
   "metadata": {},
   "outputs": [
    {
     "name": "stdout",
     "output_type": "stream",
     "text": [
      "Vehicle type: Electric\n",
      "Car brand: Tesla\n",
      "Battery capacity: 75 kWh\n"
     ]
    }
   ],
   "source": [
    "#Implement a multi-level inheritance scenario where a class vehicle has an attribute type.Derive a class car and further derive a class Electriccar that adds a battery attribute.\n",
    "\n",
    "# Base class\n",
    "class Vehicle:\n",
    "    def __init__(self, type):\n",
    "        self.type = type\n",
    "\n",
    "    def show_type(self):\n",
    "        print(f\"Vehicle type: {self.type}\")\n",
    "\n",
    "# First-level derived class\n",
    "class Car(Vehicle):\n",
    "    def __init__(self, type, brand):\n",
    "        super().__init__(type)\n",
    "        self.brand = brand\n",
    "\n",
    "    def show_brand(self):\n",
    "        print(f\"Car brand: {self.brand}\")\n",
    "\n",
    "# Second-level derived class\n",
    "class ElectricCar(Car):\n",
    "    def __init__(self, type, brand, battery):\n",
    "        super().__init__(type, brand)\n",
    "        self.battery = battery\n",
    "\n",
    "    def show_battery(self):\n",
    "        print(f\"Battery capacity: {self.battery} kWh\")\n",
    "\n",
    "# Example usage\n",
    "ecar = ElectricCar(\"Electric\", \"Tesla\", 75)\n",
    "ecar.show_type()      # Vehicle type: Electric\n",
    "ecar.show_brand()     # Car brand: Tesla\n",
    "ecar.show_battery()   # Battery capacity: 75 kWh\n"
   ]
  },
  {
   "cell_type": "code",
   "execution_count": 16,
   "id": "376fc3c5-29b8-498a-8ab1-768c2431021e",
   "metadata": {},
   "outputs": [
    {
     "name": "stdout",
     "output_type": "stream",
     "text": [
      "Sparrow flies high in the sky!\n",
      "Penguin can't fly, but it can swim!\n"
     ]
    }
   ],
   "source": [
    "#Demonstrate polymorhism by creating a base class Bird with a method fly(). Create two derived classes sparrow and Penguin that override the fly() method .\n",
    "\n",
    "# Base class\n",
    "class Bird:\n",
    "    def fly(self):\n",
    "        print(\"This bird can fly.\")\n",
    "\n",
    "# Derived class: Sparrow\n",
    "class Sparrow(Bird):\n",
    "    def fly(self):\n",
    "        print(\"Sparrow flies high in the sky!\")\n",
    "\n",
    "# Derived class: Penguin\n",
    "class Penguin(Bird):\n",
    "    def fly(self):\n",
    "        print(\"Penguin can't fly, but it can swim!\")\n",
    "\n",
    "# Demonstrating polymorphism\n",
    "def bird_fly(bird):\n",
    "    bird.fly()\n",
    "\n",
    "# Creating objects of Sparrow and Penguin\n",
    "sparrow = Sparrow()\n",
    "penguin = Penguin()\n",
    "\n",
    "# Polymorphism in action\n",
    "bird_fly(sparrow)   # Output: Sparrow flies high in the sky!\n",
    "bird_fly(penguin)   # Output: Penguin can't fly, but it can swim!\n"
   ]
  },
  {
   "cell_type": "code",
   "execution_count": 17,
   "id": "929fd2c4-de17-4a13-99c4-621bfec10713",
   "metadata": {},
   "outputs": [
    {
     "name": "stdout",
     "output_type": "stream",
     "text": [
      "Current balance: 1000\n",
      "Deposited: 500\n",
      "Withdrew: 200\n",
      "Current balance: 1300\n",
      "Insufficient funds or invalid withdrawal amount.\n"
     ]
    }
   ],
   "source": [
    "#Write a program to demonstrate encapsulation by creating a class Bankaccount with private attributes balance and methods to deposite, withdraw, and check balance.\n",
    "\n",
    "class BankAccount:\n",
    "    def __init__(self, balance=0):\n",
    "        # Private attribute\n",
    "        self.__balance = balance\n",
    "\n",
    "    # Deposit method\n",
    "    def deposit(self, amount):\n",
    "        if amount > 0:\n",
    "            self.__balance += amount\n",
    "            print(f\"Deposited: {amount}\")\n",
    "        else:\n",
    "            print(\"Deposit amount must be positive.\")\n",
    "\n",
    "    # Withdraw method\n",
    "    def withdraw(self, amount):\n",
    "        if amount > 0 and amount <= self.__balance:\n",
    "            self.__balance -= amount\n",
    "            print(f\"Withdrew: {amount}\")\n",
    "        else:\n",
    "            print(\"Insufficient funds or invalid withdrawal amount.\")\n",
    "\n",
    "    # Check balance method (getter)\n",
    "    def check_balance(self):\n",
    "        print(f\"Current balance: {self.__balance}\")\n",
    "\n",
    "# Example usage\n",
    "account = BankAccount(1000)  # Create account with initial balance\n",
    "account.check_balance()      # Output: Current balance: 1000\n",
    "account.deposit(500)         # Output: Deposited: 500\n",
    "account.withdraw(200)        # Output: Withdrew: 200\n",
    "account.check_balance()      # Output: Current balance: 1300\n",
    "account.withdraw(1500)       # Output: Insufficient funds or invalid withdrawal amount.\n"
   ]
  },
  {
   "cell_type": "code",
   "execution_count": 1,
   "id": "6c2c3bb4-5c7a-4e0e-99bd-c161941b3640",
   "metadata": {},
   "outputs": [
    {
     "name": "stdout",
     "output_type": "stream",
     "text": [
      "Strumming the guitar\n",
      "Playing the piano\n"
     ]
    }
   ],
   "source": [
    "#Demonstrate runtime a polymorphism using a method play() in a base class instrument. Derive classes guitar ands piano that implement their own version of play().\n",
    "\n",
    "# Base class\n",
    "class Instrument:\n",
    "    def play(self):\n",
    "        print(\"Playing an instrument\")\n",
    "\n",
    "# Derived class: Guitar\n",
    "class Guitar(Instrument):\n",
    "    def play(self):\n",
    "        print(\"Strumming the guitar\")\n",
    "\n",
    "# Derived class: Piano\n",
    "class Piano(Instrument):\n",
    "    def play(self):\n",
    "        print(\"Playing the piano\")\n",
    "\n",
    "# Function demonstrating runtime polymorphism\n",
    "def perform_play(instrument):\n",
    "    instrument.play()\n",
    "\n",
    "# Create objects\n",
    "guitar = Guitar()\n",
    "piano = Piano()\n",
    "\n",
    "# Call play() using base class reference\n",
    "perform_play(guitar)  # Output: Strumming the guitar\n",
    "perform_play(piano)   # Output: Playing the piano\n"
   ]
  },
  {
   "cell_type": "code",
   "execution_count": 2,
   "id": "0d299ed3-cca1-4731-8eb9-56282367c4fe",
   "metadata": {},
   "outputs": [
    {
     "name": "stdout",
     "output_type": "stream",
     "text": [
      "Addition: 11\n",
      "Subtraction: 5\n"
     ]
    }
   ],
   "source": [
    "# Create a class MathOperations with a class method add_numbers() to add two numbers and a static method subtract_numbers() to subtract two numbers.\n",
    "\n",
    "class MathOperations:\n",
    "    @classmethod\n",
    "    def add_numbers(cls, a, b):\n",
    "        return a + b\n",
    "\n",
    "    @staticmethod\n",
    "    def subtract_numbers(a, b):\n",
    "        return a - b\n",
    "\n",
    "# Example usage:\n",
    "result_add = MathOperations.add_numbers(8, 3)\n",
    "result_subtract = MathOperations.subtract_numbers(8, 3)\n",
    "\n",
    "print(\"Addition:\", result_add)         # Output: Addition: 11\n",
    "print(\"Subtraction:\", result_subtract) # Output: Subtraction: 5\n"
   ]
  },
  {
   "cell_type": "code",
   "execution_count": 3,
   "id": "e345e88e-6ea0-47d7-a5ab-7b3aa868454b",
   "metadata": {},
   "outputs": [
    {
     "name": "stdout",
     "output_type": "stream",
     "text": [
      "Total persons created: 3\n"
     ]
    }
   ],
   "source": [
    "#Implement a class Person with a class method to count the total number of persons created.\n",
    "\n",
    "class Person:\n",
    "    count = 0  # Class variable to track number of persons\n",
    "\n",
    "    def __init__(self, name):\n",
    "        self.name = name\n",
    "        Person.count += 1\n",
    "\n",
    "    @classmethod\n",
    "    def get_person_count(cls):\n",
    "        return cls.count\n",
    "\n",
    "# Example usage:\n",
    "p1 = Person(\"Alice\")\n",
    "p2 = Person(\"Bob\")\n",
    "p3 = Person(\"Charlie\")\n",
    "\n",
    "print(\"Total persons created:\", Person.get_person_count())  # Output: 3\n"
   ]
  },
  {
   "cell_type": "code",
   "execution_count": 4,
   "id": "b5ecd91b-d9a3-46a2-8d1f-7f8ffced83ec",
   "metadata": {},
   "outputs": [
    {
     "name": "stdout",
     "output_type": "stream",
     "text": [
      "3/4\n"
     ]
    }
   ],
   "source": [
    "#Write a class Fraction with attributes numerator and denominator. Override the str method to display the fraction as \"numerator/denominator\".\n",
    "\n",
    "class Fraction:\n",
    "    def __init__(self, numerator, denominator):\n",
    "        self.numerator = numerator\n",
    "        self.denominator = denominator\n",
    "\n",
    "    def __str__(self):\n",
    "        return f\"{self.numerator}/{self.denominator}\"\n",
    "\n",
    "# Example usage:\n",
    "f = Fraction(3, 4)\n",
    "print(f)  # Output: 3/4\n"
   ]
  },
  {
   "cell_type": "code",
   "execution_count": 5,
   "id": "b09a6ca2-67a7-4af0-8529-1defaa293153",
   "metadata": {},
   "outputs": [
    {
     "name": "stdout",
     "output_type": "stream",
     "text": [
      "Vector(6, 4)\n"
     ]
    }
   ],
   "source": [
    "# Demonstrate operator overloading by creating a class Vector and overriding the add method to add two vectors.\n",
    "\n",
    "class Vector:\n",
    "    def __init__(self, x, y):\n",
    "        self.x = x\n",
    "        self.y = y\n",
    "\n",
    "    def __add__(self, other):\n",
    "        # Overloading the + operator\n",
    "        return Vector(self.x + other.x, self.y + other.y)\n",
    "\n",
    "    def __str__(self):\n",
    "        return f\"Vector({self.x}, {self.y})\"\n",
    "\n",
    "# Example usage:\n",
    "v1 = Vector(2, 3)\n",
    "v2 = Vector(4, 1)\n",
    "v3 = v1 + v2\n",
    "\n",
    "print(v3)  # Output: Vector(6, 4)\n"
   ]
  },
  {
   "cell_type": "code",
   "execution_count": 6,
   "id": "8dc9f05d-ac76-4c4d-925c-03f4571ddb43",
   "metadata": {},
   "outputs": [
    {
     "name": "stdout",
     "output_type": "stream",
     "text": [
      "Hello, my name is Alice and I am 25 years old.\n"
     ]
    }
   ],
   "source": [
    "#. Create a class Person with attributes name and age. Add a method greet() that prints \"Hello, my name is {name} and I am {age} years old.\"\n",
    "\n",
    "class Person:\n",
    "    def __init__(self, name, age):\n",
    "        self.name = name\n",
    "        self.age = age\n",
    "\n",
    "    def greet(self):\n",
    "        print(f\"Hello, my name is {self.name} and I am {self.age} years old.\")\n",
    "\n",
    "# Example usage:\n",
    "p = Person(\"Alice\", 25)\n",
    "p.greet()  # Output: Hello, my name is Alice and I am 25 years old.\n",
    "\n"
   ]
  },
  {
   "cell_type": "code",
   "execution_count": 7,
   "id": "5c48a266-0249-46c8-86bd-e52ab8c1b690",
   "metadata": {},
   "outputs": [
    {
     "name": "stdout",
     "output_type": "stream",
     "text": [
      "John's average grade is: 86.25\n"
     ]
    }
   ],
   "source": [
    "#Implement a class Student with attributes name and grades. Create a method average_grade() to compute the average of the grades.\n",
    "\n",
    "class Student:\n",
    "    def __init__(self, name, grades):\n",
    "        self.name = name\n",
    "        self.grades = grades  # Should be a list of numbers\n",
    "\n",
    "    def average_grade(self):\n",
    "        if not self.grades:\n",
    "            return 0\n",
    "        return sum(self.grades) / len(self.grades)\n",
    "\n",
    "# Example usage:\n",
    "s = Student(\"John\", [85, 90, 78, 92])\n",
    "print(f\"{s.name}'s average grade is: {s.average_grade():.2f}\")  \n",
    "# Output: John's average grade is: 86.25\n"
   ]
  },
  {
   "cell_type": "code",
   "execution_count": 8,
   "id": "30fa287b-ae43-4a51-ba19-81608cb075f4",
   "metadata": {},
   "outputs": [
    {
     "name": "stdout",
     "output_type": "stream",
     "text": [
      "Area of rectangle: 15\n"
     ]
    }
   ],
   "source": [
    "# Create a class Rectangle with methods set_dimensions() to set the dimensions and area() to calculate the area.\n",
    "\n",
    "class Rectangle:\n",
    "    def __init__(self):\n",
    "        self.length = 0\n",
    "        self.width = 0\n",
    "\n",
    "    def set_dimensions(self, length, width):\n",
    "        self.length = length\n",
    "        self.width = width\n",
    "\n",
    "    def area(self):\n",
    "        return self.length * self.width\n",
    "\n",
    "# Example usage:\n",
    "rect = Rectangle()\n",
    "rect.set_dimensions(5, 3)\n",
    "print(\"Area of rectangle:\", rect.area())  # Output: Area of rectangle: 15\n"
   ]
  },
  {
   "cell_type": "code",
   "execution_count": 9,
   "id": "eca2d870-8c18-4c4c-a4eb-698957dfab15",
   "metadata": {},
   "outputs": [
    {
     "name": "stdout",
     "output_type": "stream",
     "text": [
      "John's salary: $800\n"
     ]
    }
   ],
   "source": [
    "#Create a class Employee with a method calculate_salary() that computes the salary based on hours worked and hourly rate. Create a derived class Manager that adds a bonus to the salary\n",
    "\n",
    "class Employee:\n",
    "    def __init__(self, name, hours_worked, hourly_rate):\n",
    "        self.name = name\n",
    "        self.hours_worked = hours_worked\n",
    "        self.hourly_rate = hourly_rate\n",
    "\n",
    "    def calculate_salary(self):\n",
    "        return self.hours_worked * self.hourly_rate\n",
    "\n",
    "class Manager(Employee):\n",
    "    def __init__(self, name, hours_worked, hourly_rate, bonus):\n",
    "        super().__init__(name, hours_worked, hourly_rate)\n",
    "        self.bonus = bonus\n",
    "\n",
    "    def calculate_salary(self):\n",
    "        base_salary = super().calculate_salary()\n",
    "        return base_salary + self.bonus\n",
    "\n",
    "# Example usage:\n",
    "emp = Employee(\"John\", 40, 20)\n",
    "print(f\"{emp.name}'s salary: ${emp.calculate_salary()}\")  # Output:_\n"
   ]
  },
  {
   "cell_type": "code",
   "execution_count": 10,
   "id": "e22454db-d130-4844-9c3d-e1f2872a9727",
   "metadata": {},
   "outputs": [
    {
     "name": "stdout",
     "output_type": "stream",
     "text": [
      "Total price of Laptop: $3000\n"
     ]
    }
   ],
   "source": [
    "# Create a class Product with attributes name, price, and quantity. Implement a method total_price() that calculates the total price of the product.\n",
    "\n",
    "class Product:\n",
    "    def __init__(self, name, price, quantity):\n",
    "        self.name = name\n",
    "        self.price = price\n",
    "        self.quantity = quantity\n",
    "\n",
    "    def total_price(self):\n",
    "        return self.price * self.quantity\n",
    "\n",
    "# Example usage:\n",
    "product = Product(\"Laptop\", 1000, 3)\n",
    "print(f\"Total price of {product.name}: ${product.total_price()}\")  # Output: Total price of Laptop: $3000\n"
   ]
  },
  {
   "cell_type": "code",
   "execution_count": 14,
   "id": "93988e57-5e2d-4a17-9be3-65f1f335d877",
   "metadata": {},
   "outputs": [
    {
     "name": "stdout",
     "output_type": "stream",
     "text": [
      "Cow sound: Moo\n",
      "Sheep sound: Baa\n"
     ]
    }
   ],
   "source": [
    "#Create a class Animal with an abstract method sound(). Create two derived classes Cow and Sheep that implement the sound() method.\n",
    "\n",
    "from abc import ABC, abstractmethod\n",
    "\n",
    "# Abstract base class\n",
    "class Animal(ABC):\n",
    "    @abstractmethod\n",
    "    def sound(self):\n",
    "        pass\n",
    "\n",
    "# Derived class Cow\n",
    "class Cow(Animal):\n",
    "    def sound(self):\n",
    "        return \"Moo\"\n",
    "\n",
    "# Derived class Sheep\n",
    "class Sheep(Animal):\n",
    "    def sound(self):\n",
    "        return \"Baa\"\n",
    "\n",
    "# Example usage:\n",
    "cow = Cow()\n",
    "sheep = Sheep()\n",
    "\n",
    "print(f\"Cow sound: {cow.sound()}\")  # Output: Cow sound: Moo\n",
    "print(f\"Sheep sound: {sheep.sound()}\")  # Output: Sheep sound: Baa\n"
   ]
  },
  {
   "cell_type": "code",
   "execution_count": 15,
   "id": "3f9bb6ba-ccd4-493d-b666-b37809ee0a2f",
   "metadata": {},
   "outputs": [
    {
     "name": "stdout",
     "output_type": "stream",
     "text": [
      "Title: The Great Gatsby, Author: F. Scott Fitzgerald, Year Published: 1925\n"
     ]
    }
   ],
   "source": [
    "#. Create a class Book with attributes title, author, and year_published. Add a method get_book_info() that returns a formatted string with the book's details.\n",
    "\n",
    "class Book:\n",
    "    def __init__(self, title, author, year_published):\n",
    "        self.title = title\n",
    "        self.author = author\n",
    "        self.year_published = year_published\n",
    "\n",
    "    def get_book_info(self):\n",
    "        return f\"Title: {self.title}, Author: {self.author}, Year Published: {self.year_published}\"\n",
    "\n",
    "# Example usage:\n",
    "book = Book(\"The Great Gatsby\", \"F. Scott Fitzgerald\", 1925)\n",
    "print(book.get_book_info())  # Output: Title: The Great Gatsby, Author: F. Scott Fitzgerald, Year Published: 1925\n"
   ]
  },
  {
   "cell_type": "code",
   "execution_count": 16,
   "id": "5606e436-3f07-48d7-b7bf-f4583d08905a",
   "metadata": {},
   "outputs": [
    {
     "name": "stdout",
     "output_type": "stream",
     "text": [
      "Address: 123 Main St, Price: $250000\n",
      "Address: 456 Grand Ave, Price: $5000000, Number of Rooms: 12\n"
     ]
    }
   ],
   "source": [
    "# Create a class House with attributes address and price. Create a derived class Mansion that adds an attribute number_of_rooms.\n",
    "\n",
    "# Base class House\n",
    "class House:\n",
    "    def __init__(self, address, price):\n",
    "        self.address = address\n",
    "        self.price = price\n",
    "\n",
    "    def get_info(self):\n",
    "        return f\"Address: {self.address}, Price: ${self.price}\"\n",
    "\n",
    "# Derived class Mansion\n",
    "class Mansion(House):\n",
    "    def __init__(self, address, price, number_of_rooms):\n",
    "        super().__init__(address, price)\n",
    "        self.number_of_rooms = number_of_rooms\n",
    "\n",
    "    def get_info(self):\n",
    "        base_info = super().get_info()\n",
    "        return f\"{base_info}, Number of Rooms: {self.number_of_rooms}\"\n",
    "\n",
    "# Example usage:\n",
    "house = House(\"123 Main St\", 250000)\n",
    "mansion = Mansion(\"456 Grand Ave\", 5000000, 12)\n",
    "\n",
    "print(house.get_info())   # Output: Address: 123 Main St, Price: $250000\n",
    "print(mansion.get_info()) # Output: Address: 456 Grand Ave, Price: $5000000, Number of Rooms: 12\n"
   ]
  },
  {
   "cell_type": "code",
   "execution_count": null,
   "id": "17456a1d-8213-4d38-bcf1-e3b61d8bda8d",
   "metadata": {},
   "outputs": [],
   "source": []
  }
 ],
 "metadata": {
  "kernelspec": {
   "display_name": "Python 3 (ipykernel)",
   "language": "python",
   "name": "python3"
  },
  "language_info": {
   "codemirror_mode": {
    "name": "ipython",
    "version": 3
   },
   "file_extension": ".py",
   "mimetype": "text/x-python",
   "name": "python",
   "nbconvert_exporter": "python",
   "pygments_lexer": "ipython3",
   "version": "3.12.7"
  }
 },
 "nbformat": 4,
 "nbformat_minor": 5
}
